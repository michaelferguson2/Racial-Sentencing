{
 "cells": [
  {
   "cell_type": "markdown",
   "id": "49611443-6922-417d-a9aa-cd1c442ef714",
   "metadata": {},
   "source": [
    "# Racial Differences in Sentencing \n",
    "\n",
    "In the United States issues around race have been, and continue to be, an important element of American culture and society. With the adoption of the Civil Rights Act of 1964, legal race-based discrimination is now illegal. However, many economists, sociologists, and political scientists have argued that the legacy of these past policies and practices still negatively affect people in the United States today. \n",
    "\n",
    "Policy makers who wish to address these programs need to understand the extent of these issues so they can properly implement new or revise current laws. This notebook uses data from Cook County, IL and basic econometric tools to determine the extent of racial bias in prison sentence length for Black and White Americans. "
   ]
  },
  {
   "cell_type": "code",
   "execution_count": 1,
   "id": "afac8a31-b5b2-4e09-ac09-0854a6927c64",
   "metadata": {},
   "outputs": [],
   "source": [
    "import pandas as pd\n",
    "import numpy as np\n",
    "import statsmodels.api as sm\n",
    "import matplotlib.pyplot as plt\n",
    "import seaborn as sns"
   ]
  },
  {
   "cell_type": "code",
   "execution_count": 2,
   "id": "3b8493d2-7b59-4b97-8ac3-04e874a45abf",
   "metadata": {},
   "outputs": [],
   "source": [
    "import_df = pd.read_csv('sentencing.csv', dtype={'DISPOSITION_CHARGED_CHAPTER':'str',\n",
    "                                                'DISPOSITION_CHARGED_ACT':'str',\n",
    "                                                'DISPOSITION_CHARGED_AOIC':'str',\n",
    "                                                'COMMITMENT_TERM':'object'})"
   ]
  },
  {
   "cell_type": "code",
   "execution_count": 3,
   "id": "59bf4cc5-b6fe-4dc3-830d-c5319bd3fb5e",
   "metadata": {},
   "outputs": [
    {
     "data": {
      "text/html": [
       "<div>\n",
       "<style scoped>\n",
       "    .dataframe tbody tr th:only-of-type {\n",
       "        vertical-align: middle;\n",
       "    }\n",
       "\n",
       "    .dataframe tbody tr th {\n",
       "        vertical-align: top;\n",
       "    }\n",
       "\n",
       "    .dataframe thead th {\n",
       "        text-align: right;\n",
       "    }\n",
       "</style>\n",
       "<table border=\"1\" class=\"dataframe\">\n",
       "  <thead>\n",
       "    <tr style=\"text-align: right;\">\n",
       "      <th></th>\n",
       "      <th>Unnamed: 0</th>\n",
       "      <th>CASE_ID</th>\n",
       "      <th>CASE_PARTICIPANT_ID</th>\n",
       "      <th>RECEIVED_DATE</th>\n",
       "      <th>OFFENSE_CATEGORY</th>\n",
       "      <th>PRIMARY_CHARGE_FLAG</th>\n",
       "      <th>CHARGE_ID</th>\n",
       "      <th>CHARGE_VERSION_ID</th>\n",
       "      <th>DISPOSITION_CHARGED_OFFENSE_TITLE</th>\n",
       "      <th>CHARGE_COUNT</th>\n",
       "      <th>...</th>\n",
       "      <th>INCIDENT_CITY</th>\n",
       "      <th>INCIDENT_BEGIN_DATE</th>\n",
       "      <th>INCIDENT_END_DATE</th>\n",
       "      <th>LAW_ENFORCEMENT_AGENCY</th>\n",
       "      <th>LAW_ENFORCEMENT_UNIT</th>\n",
       "      <th>ARREST_DATE</th>\n",
       "      <th>FELONY_REVIEW_DATE</th>\n",
       "      <th>FELONY_REVIEW_RESULT</th>\n",
       "      <th>ARRAIGNMENT_DATE</th>\n",
       "      <th>UPDATED_OFFENSE_CATEGORY</th>\n",
       "    </tr>\n",
       "  </thead>\n",
       "  <tbody>\n",
       "    <tr>\n",
       "      <th>0</th>\n",
       "      <td>0</td>\n",
       "      <td>2.263280e+11</td>\n",
       "      <td>8.314865e+10</td>\n",
       "      <td>2/5/2002 0:00</td>\n",
       "      <td>PROMIS Conversion</td>\n",
       "      <td>True</td>\n",
       "      <td>6.238910e+12</td>\n",
       "      <td>1.097000e+12</td>\n",
       "      <td>CONSPIRACY TO COMMIT FIRST DEGREE MURDER</td>\n",
       "      <td>1</td>\n",
       "      <td>...</td>\n",
       "      <td>NaN</td>\n",
       "      <td>7/2/2000 0:00</td>\n",
       "      <td>NaN</td>\n",
       "      <td>CHICAGO POLICE DEPT</td>\n",
       "      <td>NaN</td>\n",
       "      <td>2016-10-08 20:00:00</td>\n",
       "      <td>10/9/2016 0:00</td>\n",
       "      <td>Approved</td>\n",
       "      <td>11/7/2016 0:00</td>\n",
       "      <td>PROMIS Conversion</td>\n",
       "    </tr>\n",
       "    <tr>\n",
       "      <th>1</th>\n",
       "      <td>166</td>\n",
       "      <td>2.586770e+11</td>\n",
       "      <td>8.943494e+10</td>\n",
       "      <td>11/1/2004 0:00</td>\n",
       "      <td>Reckless Homicide</td>\n",
       "      <td>False</td>\n",
       "      <td>9.453060e+12</td>\n",
       "      <td>9.768150e+11</td>\n",
       "      <td>RECKLESS HOMICIDE</td>\n",
       "      <td>6</td>\n",
       "      <td>...</td>\n",
       "      <td>NaN</td>\n",
       "      <td>10/10/2004 0:00</td>\n",
       "      <td>NaN</td>\n",
       "      <td>CHICAGO POLICE DEPT</td>\n",
       "      <td>NaN</td>\n",
       "      <td>2014-08-21 20:20:00</td>\n",
       "      <td>8/22/2014 0:00</td>\n",
       "      <td>Approved</td>\n",
       "      <td>11/5/2014 0:00</td>\n",
       "      <td>Reckless Homicide</td>\n",
       "    </tr>\n",
       "    <tr>\n",
       "      <th>2</th>\n",
       "      <td>842</td>\n",
       "      <td>2.807890e+11</td>\n",
       "      <td>1.041640e+11</td>\n",
       "      <td>3/13/2008 0:00</td>\n",
       "      <td>PROMIS Conversion</td>\n",
       "      <td>True</td>\n",
       "      <td>5.969080e+12</td>\n",
       "      <td>5.270940e+11</td>\n",
       "      <td>RETAIL THEFT</td>\n",
       "      <td>1</td>\n",
       "      <td>...</td>\n",
       "      <td>NaN</td>\n",
       "      <td>3/13/2008 0:00</td>\n",
       "      <td>NaN</td>\n",
       "      <td>HODGKINS POLICE DEPARTMENT</td>\n",
       "      <td>NaN</td>\n",
       "      <td>2012-03-19 21:56:00</td>\n",
       "      <td>3/13/2008 0:00</td>\n",
       "      <td>Charge(S) Approved</td>\n",
       "      <td>5/9/2012 0:00</td>\n",
       "      <td>PROMIS Conversion</td>\n",
       "    </tr>\n",
       "  </tbody>\n",
       "</table>\n",
       "<p>3 rows × 42 columns</p>\n",
       "</div>"
      ],
      "text/plain": [
       "   Unnamed: 0       CASE_ID  CASE_PARTICIPANT_ID   RECEIVED_DATE  \\\n",
       "0           0  2.263280e+11         8.314865e+10   2/5/2002 0:00   \n",
       "1         166  2.586770e+11         8.943494e+10  11/1/2004 0:00   \n",
       "2         842  2.807890e+11         1.041640e+11  3/13/2008 0:00   \n",
       "\n",
       "    OFFENSE_CATEGORY  PRIMARY_CHARGE_FLAG     CHARGE_ID  CHARGE_VERSION_ID  \\\n",
       "0  PROMIS Conversion                 True  6.238910e+12       1.097000e+12   \n",
       "1  Reckless Homicide                False  9.453060e+12       9.768150e+11   \n",
       "2  PROMIS Conversion                 True  5.969080e+12       5.270940e+11   \n",
       "\n",
       "          DISPOSITION_CHARGED_OFFENSE_TITLE  CHARGE_COUNT  ... INCIDENT_CITY  \\\n",
       "0  CONSPIRACY TO COMMIT FIRST DEGREE MURDER             1  ...           NaN   \n",
       "1                         RECKLESS HOMICIDE             6  ...           NaN   \n",
       "2                              RETAIL THEFT             1  ...           NaN   \n",
       "\n",
       "  INCIDENT_BEGIN_DATE INCIDENT_END_DATE      LAW_ENFORCEMENT_AGENCY  \\\n",
       "0       7/2/2000 0:00               NaN         CHICAGO POLICE DEPT   \n",
       "1     10/10/2004 0:00               NaN         CHICAGO POLICE DEPT   \n",
       "2      3/13/2008 0:00               NaN  HODGKINS POLICE DEPARTMENT   \n",
       "\n",
       "  LAW_ENFORCEMENT_UNIT          ARREST_DATE FELONY_REVIEW_DATE  \\\n",
       "0                  NaN  2016-10-08 20:00:00     10/9/2016 0:00   \n",
       "1                  NaN  2014-08-21 20:20:00     8/22/2014 0:00   \n",
       "2                  NaN  2012-03-19 21:56:00     3/13/2008 0:00   \n",
       "\n",
       "  FELONY_REVIEW_RESULT ARRAIGNMENT_DATE UPDATED_OFFENSE_CATEGORY  \n",
       "0             Approved   11/7/2016 0:00        PROMIS Conversion  \n",
       "1             Approved   11/5/2014 0:00        Reckless Homicide  \n",
       "2   Charge(S) Approved    5/9/2012 0:00        PROMIS Conversion  \n",
       "\n",
       "[3 rows x 42 columns]"
      ]
     },
     "execution_count": 3,
     "metadata": {},
     "output_type": "execute_result"
    }
   ],
   "source": [
    "sentencing_df = import_df.copy(deep=True)\n",
    "sentencing_df.head(3)"
   ]
  },
  {
   "cell_type": "markdown",
   "id": "9ec9aa64-5103-4fe1-836d-816ed6cb2587",
   "metadata": {},
   "source": [
    "## Filtering Down to Desired Defendants\n",
    "For this notebook, we will limit our focus to only Black and White Americans between the ages of 18 and 39, who were arrested between 2010 and 2019 for a felony narcotics charge, and were sentenced to some time in prison. This is to allow us to compare a mostly similar group of individuals to each other."
   ]
  },
  {
   "cell_type": "code",
   "execution_count": 4,
   "id": "21cff1c9-49cf-414a-8f16-1cd2619d7694",
   "metadata": {},
   "outputs": [
    {
     "data": {
      "text/plain": [
       "Index(['Unnamed: 0', 'CASE_ID', 'CASE_PARTICIPANT_ID', 'RECEIVED_DATE',\n",
       "       'OFFENSE_CATEGORY', 'PRIMARY_CHARGE_FLAG', 'CHARGE_ID',\n",
       "       'CHARGE_VERSION_ID', 'DISPOSITION_CHARGED_OFFENSE_TITLE',\n",
       "       'CHARGE_COUNT', 'DISPOSITION_DATE', 'DISPOSITION_CHARGED_CHAPTER',\n",
       "       'DISPOSITION_CHARGED_ACT', 'DISPOSITION_CHARGED_SECTION',\n",
       "       'DISPOSITION_CHARGED_CLASS', 'DISPOSITION_CHARGED_AOIC',\n",
       "       'CHARGE_DISPOSITION', 'CHARGE_DISPOSITION_REASON', 'SENTENCE_JUDGE',\n",
       "       'SENTENCE_COURT_NAME', 'SENTENCE_COURT_FACILITY', 'SENTENCE_PHASE',\n",
       "       'SENTENCE_DATE', 'SENTENCE_TYPE', 'CURRENT_SENTENCE_FLAG',\n",
       "       'COMMITMENT_TYPE', 'COMMITMENT_TERM', 'COMMITMENT_UNIT',\n",
       "       'LENGTH_OF_CASE_in_Days', 'AGE_AT_INCIDENT', 'RACE', 'GENDER',\n",
       "       'INCIDENT_CITY', 'INCIDENT_BEGIN_DATE', 'INCIDENT_END_DATE',\n",
       "       'LAW_ENFORCEMENT_AGENCY', 'LAW_ENFORCEMENT_UNIT', 'ARREST_DATE',\n",
       "       'FELONY_REVIEW_DATE', 'FELONY_REVIEW_RESULT', 'ARRAIGNMENT_DATE',\n",
       "       'UPDATED_OFFENSE_CATEGORY'],\n",
       "      dtype='object')"
      ]
     },
     "execution_count": 4,
     "metadata": {},
     "output_type": "execute_result"
    }
   ],
   "source": [
    "sentencing_df.columns"
   ]
  },
  {
   "cell_type": "code",
   "execution_count": 5,
   "id": "d6a9e56e-c386-4f23-a0f6-f8df38e6b34d",
   "metadata": {},
   "outputs": [
    {
     "data": {
      "text/plain": [
       "(11776, 42)"
      ]
     },
     "execution_count": 5,
     "metadata": {},
     "output_type": "execute_result"
    }
   ],
   "source": [
    "# removing duplicate cases\n",
    "sentencing_df = sentencing_df.drop_duplicates(subset='CASE_ID', keep=False)\n",
    "sentencing_df.shape"
   ]
  },
  {
   "cell_type": "code",
   "execution_count": 6,
   "id": "18c5ea12-27ba-44da-a9c1-e1fa1300b8da",
   "metadata": {},
   "outputs": [
    {
     "data": {
      "text/plain": [
       "(5518, 42)"
      ]
     },
     "execution_count": 6,
     "metadata": {},
     "output_type": "execute_result"
    }
   ],
   "source": [
    "# filtering dataframe to only keep cases related to narcotics \n",
    "sentencing_df = sentencing_df[sentencing_df['UPDATED_OFFENSE_CATEGORY'] == 'Narcotics']\n",
    "sentencing_df.shape"
   ]
  },
  {
   "cell_type": "code",
   "execution_count": 7,
   "id": "17630dfa-96ba-4db3-972e-725f84df6862",
   "metadata": {},
   "outputs": [
    {
     "data": {
      "text/plain": [
       "(4006, 42)"
      ]
     },
     "execution_count": 7,
     "metadata": {},
     "output_type": "execute_result"
    }
   ],
   "source": [
    "# changing the ARREST_DATE variable to datetime from string to allow filtering by date\n",
    "sentencing_df['ARREST_DATE'] = pd.to_datetime(sentencing_df['ARREST_DATE'])\n",
    "\n",
    "# filtering the dataframe to only have \n",
    "sentencing_df = sentencing_df[sentencing_df['ARREST_DATE'].between('2014-01-01', '2019-12-31')]\n",
    "sentencing_df.shape"
   ]
  },
  {
   "cell_type": "code",
   "execution_count": 8,
   "id": "9a656fb0-4410-4c6c-a195-383c6492281f",
   "metadata": {},
   "outputs": [
    {
     "data": {
      "text/plain": [
       "(2675, 42)"
      ]
     },
     "execution_count": 8,
     "metadata": {},
     "output_type": "execute_result"
    }
   ],
   "source": [
    "# filtering dataframe to only have defendants between ages getting ages between 18 and 39\n",
    "sentencing_df = sentencing_df[sentencing_df['AGE_AT_INCIDENT'].between(18, 39)]\n",
    "sentencing_df.shape"
   ]
  },
  {
   "cell_type": "code",
   "execution_count": 9,
   "id": "f75621f2-de03-4e0b-a4d4-e5349bfae79e",
   "metadata": {},
   "outputs": [],
   "source": [
    "#sentencing_df['ARREST_DATE'].dt.year"
   ]
  },
  {
   "cell_type": "code",
   "execution_count": 10,
   "id": "9e304420-5ca6-44bb-ad11-a77258d98620",
   "metadata": {},
   "outputs": [
    {
     "data": {
      "text/plain": [
       "(2662, 42)"
      ]
     },
     "execution_count": 10,
     "metadata": {},
     "output_type": "execute_result"
    }
   ],
   "source": [
    "# main variables to be used, dropping na values \n",
    "keep_list = ['CHARGE_COUNT','AGE_AT_INCIDENT','RACE','GENDER', 'COMMITMENT_TERM',\n",
    "             'COMMITMENT_UNIT','DISPOSITION_CHARGED_CLASS','SENTENCE_TYPE']\n",
    "\n",
    "sentencing_df = sentencing_df.dropna(subset=keep_list)\n",
    "sentencing_df.shape"
   ]
  },
  {
   "cell_type": "code",
   "execution_count": 11,
   "id": "1b3b3fb7-1379-4a39-b897-d5499927d73b",
   "metadata": {},
   "outputs": [
    {
     "data": {
      "text/plain": [
       "(2334, 42)"
      ]
     },
     "execution_count": 11,
     "metadata": {},
     "output_type": "execute_result"
    }
   ],
   "source": [
    "# filtering dataset for only felony crimes\n",
    "felony_list = ['X', '1', '2', '3', '4']\n",
    "sentencing_df = sentencing_df[sentencing_df['DISPOSITION_CHARGED_CLASS'].isin(felony_list)]\n",
    "sentencing_df.shape"
   ]
  },
  {
   "cell_type": "code",
   "execution_count": 12,
   "id": "2f670ba2-7747-475d-bfc8-11820117e818",
   "metadata": {},
   "outputs": [
    {
     "data": {
      "text/plain": [
       "(1006, 42)"
      ]
     },
     "execution_count": 12,
     "metadata": {},
     "output_type": "execute_result"
    }
   ],
   "source": [
    "# filtering for only instances where the the defendent was sentanced to prison \n",
    "sentencing_df = sentencing_df[sentencing_df['SENTENCE_TYPE'] == 'Prison']\n",
    "sentencing_df.shape"
   ]
  },
  {
   "cell_type": "code",
   "execution_count": 13,
   "id": "6e306914-b8c3-43de-b6fd-f7bc41cb4de7",
   "metadata": {},
   "outputs": [
    {
     "data": {
      "text/plain": [
       "(1006, 42)"
      ]
     },
     "execution_count": 13,
     "metadata": {},
     "output_type": "execute_result"
    }
   ],
   "source": [
    "# updating commitment term to numeric \n",
    "sentencing_df['COMMITMENT_TERM'] = sentencing_df['COMMITMENT_TERM'].astype('float')\n",
    "sentencing_df.shape"
   ]
  },
  {
   "cell_type": "code",
   "execution_count": 14,
   "id": "ac358faf-e6e5-4b50-b846-d677741aa8c2",
   "metadata": {},
   "outputs": [
    {
     "data": {
      "text/plain": [
       "(1005, 42)"
      ]
     },
     "execution_count": 14,
     "metadata": {},
     "output_type": "execute_result"
    }
   ],
   "source": [
    "# filtering dataframe to only include commitment units in years, months, or days \n",
    "sentencing_df = sentencing_df[\n",
    "    (sentencing_df['COMMITMENT_UNIT']=='Year(s)') | \n",
    "    (sentencing_df['COMMITMENT_UNIT']=='Months') | \n",
    "    (sentencing_df['COMMITMENT_UNIT']=='Days')]\n",
    "\n",
    "# removing 0 from commitmnet term \n",
    "sentencing_df = sentencing_df[sentencing_df['COMMITMENT_TERM'] != 0]\n",
    "\n",
    "sentencing_df.shape"
   ]
  },
  {
   "cell_type": "code",
   "execution_count": 15,
   "id": "53faa22e-e069-4a62-9c95-6fcd9f563ddc",
   "metadata": {},
   "outputs": [
    {
     "data": {
      "text/plain": [
       "(1005, 42)"
      ]
     },
     "execution_count": 15,
     "metadata": {},
     "output_type": "execute_result"
    }
   ],
   "source": [
    "# filtering dataframe to remove unknown gender\n",
    "sentencing_df = sentencing_df[\n",
    "    (sentencing_df['GENDER']=='Female') | \n",
    "    (sentencing_df['GENDER']=='Male')]\n",
    "sentencing_df.shape"
   ]
  },
  {
   "cell_type": "markdown",
   "id": "5bc88c8a-6628-4006-a57c-4e954d4bb953",
   "metadata": {},
   "source": [
    "## Creating New Variables\n",
    "In order to aid the the contruction of the regression analysis, I will create a few new variables that capture important information about the defenants. \n",
    "1. DISPOSITION_TYPE: A binary variable indicating whether the defenant plead guilty or if a judge/jury found them guilty\n",
    "2. TERM_IN_MONTHS: An update of the commitment variable where the duration of each sentence is converted into months rather than different units of years, months, and days \n",
    "3. RACE_UPDATED: An update of the RACE variable that properly classifies Black and White individuals and classifies other races as \"Other\"\n",
    "\n",
    "In addition to the three mentioned above, a log transformation will be taken for all continuous variables to allow percentage comparison to be estimated. \n"
   ]
  },
  {
   "cell_type": "code",
   "execution_count": 16,
   "id": "d3de07ca-71d3-4174-ad91-52395fd542d1",
   "metadata": {},
   "outputs": [
    {
     "data": {
      "text/plain": [
       "(1005, 43)"
      ]
     },
     "execution_count": 16,
     "metadata": {},
     "output_type": "execute_result"
    }
   ],
   "source": [
    "# creating variable for whether the defendant plead guily or was found guilty\n",
    "\n",
    "DISPOSITION_TYPE = []\n",
    "\n",
    "for index, row in sentencing_df.iterrows():\n",
    "    if row['CHARGE_DISPOSITION'] == 'Plea Of Guilty':\n",
    "        DISPOSITION_TYPE.append('Plead Guilty')\n",
    "    elif row['CHARGE_DISPOSITION'] == 'Finding Guilty' or 'Verdict Guilty':\n",
    "        DISPOSITION_TYPE.append('Found Guilty')\n",
    "    else:\n",
    "        DISPOSITION_TYPE.append('Other')\n",
    "\n",
    "\n",
    "sentencing_df['DISPOSITION_TYPE'] = DISPOSITION_TYPE  \n",
    "\n",
    "# filtering for only guilty verdicts\n",
    "sentencing_df = sentencing_df[sentencing_df['DISPOSITION_TYPE'] != 'Other']\n",
    "sentencing_df.shape"
   ]
  },
  {
   "cell_type": "code",
   "execution_count": 17,
   "id": "d4b480a0-70ab-457c-9baa-c8c9dfd20cf9",
   "metadata": {},
   "outputs": [],
   "source": [
    "# creating a new column to standardize sentence duration to around months\n",
    "TERM_IN_MONTHS = []\n",
    "\n",
    "for index, row in sentencing_df.iterrows():\n",
    "    if row['COMMITMENT_UNIT'] == 'Year(s)':\n",
    "        TERM_IN_MONTHS.append(row['COMMITMENT_TERM']/12)\n",
    "        \n",
    "    elif row['COMMITMENT_UNIT'] == 'Months':\n",
    "        TERM_IN_MONTHS.append(row['COMMITMENT_TERM']/1)\n",
    "        \n",
    "    elif row['COMMITMENT_UNIT'] == 'Days':\n",
    "        TERM_IN_MONTHS.append(row['COMMITMENT_TERM']/30)\n",
    "        \n",
    "sentencing_df['TERM_IN_MONTHS'] = np.round(TERM_IN_MONTHS, 3) "
   ]
  },
  {
   "cell_type": "code",
   "execution_count": 18,
   "id": "815d4d33-57b7-4f6f-a9d6-a2cf7254ef14",
   "metadata": {},
   "outputs": [
    {
     "data": {
      "text/plain": [
       "(925, 45)"
      ]
     },
     "execution_count": 18,
     "metadata": {},
     "output_type": "execute_result"
    }
   ],
   "source": [
    "# updating race to remove unknown and classifying race - black, white\n",
    "\n",
    "RACE_UPDATED = []\n",
    "\n",
    "for index, row in sentencing_df.iterrows():\n",
    "    if 'Black' in row['RACE']:\n",
    "        RACE_UPDATED.append('Black')\n",
    "    elif row['RACE'] == 'White':\n",
    "        RACE_UPDATED.append('White')\n",
    "    else:\n",
    "        RACE_UPDATED.append('Other')\n",
    "\n",
    "sentencing_df['RACE_UPDATED'] = RACE_UPDATED\n",
    "\n",
    "\n",
    "# filtering dataframe to only include Black and White individuals \n",
    "sentencing_df = sentencing_df[sentencing_df['RACE_UPDATED'] != 'Other']\n",
    "sentencing_df.shape"
   ]
  },
  {
   "cell_type": "code",
   "execution_count": 19,
   "id": "18379cf4-965f-42c2-b99c-13f24f0b04c2",
   "metadata": {},
   "outputs": [],
   "source": [
    "# filtering to only usable features \n",
    "feature_list = ['CHARGE_COUNT','AGE_AT_INCIDENT','RACE_UPDATED','GENDER',\n",
    "                'DISPOSITION_CHARGED_CLASS','TERM_IN_MONTHS','DISPOSITION_TYPE']\n",
    "\n",
    "regression_df = sentencing_df[feature_list].copy(deep=True)"
   ]
  },
  {
   "cell_type": "code",
   "execution_count": 20,
   "id": "3bdf53c3-161d-40d1-917a-4df73f35928c",
   "metadata": {},
   "outputs": [
    {
     "data": {
      "text/plain": [
       "CHARGE_COUNT                 0\n",
       "AGE_AT_INCIDENT              0\n",
       "RACE_UPDATED                 0\n",
       "GENDER                       0\n",
       "DISPOSITION_CHARGED_CLASS    0\n",
       "TERM_IN_MONTHS               0\n",
       "DISPOSITION_TYPE             0\n",
       "dtype: int64"
      ]
     },
     "execution_count": 20,
     "metadata": {},
     "output_type": "execute_result"
    }
   ],
   "source": [
    "# verifiying that all null values have been eliminated \n",
    "regression_df.isnull().sum()"
   ]
  },
  {
   "cell_type": "code",
   "execution_count": 21,
   "id": "6ea15a75-ece2-43bb-84da-a33697472937",
   "metadata": {},
   "outputs": [
    {
     "data": {
      "text/html": [
       "<div>\n",
       "<style scoped>\n",
       "    .dataframe tbody tr th:only-of-type {\n",
       "        vertical-align: middle;\n",
       "    }\n",
       "\n",
       "    .dataframe tbody tr th {\n",
       "        vertical-align: top;\n",
       "    }\n",
       "\n",
       "    .dataframe thead th {\n",
       "        text-align: right;\n",
       "    }\n",
       "</style>\n",
       "<table border=\"1\" class=\"dataframe\">\n",
       "  <thead>\n",
       "    <tr style=\"text-align: right;\">\n",
       "      <th></th>\n",
       "      <th>CHARGE_COUNT</th>\n",
       "      <th>AGE_AT_INCIDENT</th>\n",
       "      <th>TERM_IN_MONTHS</th>\n",
       "    </tr>\n",
       "  </thead>\n",
       "  <tbody>\n",
       "    <tr>\n",
       "      <th>count</th>\n",
       "      <td>925.000000</td>\n",
       "      <td>925.000000</td>\n",
       "      <td>925.000000</td>\n",
       "    </tr>\n",
       "    <tr>\n",
       "      <th>mean</th>\n",
       "      <td>1.330811</td>\n",
       "      <td>27.968649</td>\n",
       "      <td>3.736366</td>\n",
       "    </tr>\n",
       "    <tr>\n",
       "      <th>std</th>\n",
       "      <td>0.781809</td>\n",
       "      <td>5.557851</td>\n",
       "      <td>9.418103</td>\n",
       "    </tr>\n",
       "    <tr>\n",
       "      <th>min</th>\n",
       "      <td>1.000000</td>\n",
       "      <td>18.000000</td>\n",
       "      <td>0.067000</td>\n",
       "    </tr>\n",
       "    <tr>\n",
       "      <th>25%</th>\n",
       "      <td>1.000000</td>\n",
       "      <td>23.000000</td>\n",
       "      <td>0.083000</td>\n",
       "    </tr>\n",
       "    <tr>\n",
       "      <th>50%</th>\n",
       "      <td>1.000000</td>\n",
       "      <td>27.000000</td>\n",
       "      <td>0.167000</td>\n",
       "    </tr>\n",
       "    <tr>\n",
       "      <th>75%</th>\n",
       "      <td>1.000000</td>\n",
       "      <td>32.000000</td>\n",
       "      <td>0.333000</td>\n",
       "    </tr>\n",
       "    <tr>\n",
       "      <th>max</th>\n",
       "      <td>10.000000</td>\n",
       "      <td>39.000000</td>\n",
       "      <td>90.000000</td>\n",
       "    </tr>\n",
       "  </tbody>\n",
       "</table>\n",
       "</div>"
      ],
      "text/plain": [
       "       CHARGE_COUNT  AGE_AT_INCIDENT  TERM_IN_MONTHS\n",
       "count    925.000000       925.000000      925.000000\n",
       "mean       1.330811        27.968649        3.736366\n",
       "std        0.781809         5.557851        9.418103\n",
       "min        1.000000        18.000000        0.067000\n",
       "25%        1.000000        23.000000        0.083000\n",
       "50%        1.000000        27.000000        0.167000\n",
       "75%        1.000000        32.000000        0.333000\n",
       "max       10.000000        39.000000       90.000000"
      ]
     },
     "execution_count": 21,
     "metadata": {},
     "output_type": "execute_result"
    }
   ],
   "source": [
    "# leaving the out of \n",
    "regression_df.describe()"
   ]
  },
  {
   "cell_type": "code",
   "execution_count": 22,
   "id": "89141914-897f-4ea4-9a0d-333cf3574e61",
   "metadata": {},
   "outputs": [],
   "source": [
    "# log transformation for all continuous variables \n",
    "\n",
    "regression_df['CHARGE_COUNT_LOG'] = np.log(regression_df['CHARGE_COUNT'])\n",
    "regression_df['AGE_AT_INCIDENT_LOG'] = np.log(regression_df['AGE_AT_INCIDENT'])\n",
    "regression_df['TERM_IN_MONTHS_LOG'] = np.log(regression_df['TERM_IN_MONTHS'])"
   ]
  },
  {
   "cell_type": "code",
   "execution_count": 23,
   "id": "d0f93c5d-6ecd-4a61-924e-f9c10d75b1ff",
   "metadata": {},
   "outputs": [
    {
     "data": {
      "text/html": [
       "<div>\n",
       "<style scoped>\n",
       "    .dataframe tbody tr th:only-of-type {\n",
       "        vertical-align: middle;\n",
       "    }\n",
       "\n",
       "    .dataframe tbody tr th {\n",
       "        vertical-align: top;\n",
       "    }\n",
       "\n",
       "    .dataframe thead th {\n",
       "        text-align: right;\n",
       "    }\n",
       "</style>\n",
       "<table border=\"1\" class=\"dataframe\">\n",
       "  <thead>\n",
       "    <tr style=\"text-align: right;\">\n",
       "      <th></th>\n",
       "      <th>CHARGE_COUNT</th>\n",
       "      <th>AGE_AT_INCIDENT</th>\n",
       "      <th>TERM_IN_MONTHS</th>\n",
       "      <th>CHARGE_COUNT_LOG</th>\n",
       "      <th>AGE_AT_INCIDENT_LOG</th>\n",
       "      <th>TERM_IN_MONTHS_LOG</th>\n",
       "    </tr>\n",
       "  </thead>\n",
       "  <tbody>\n",
       "    <tr>\n",
       "      <th>count</th>\n",
       "      <td>925.000000</td>\n",
       "      <td>925.000000</td>\n",
       "      <td>925.000000</td>\n",
       "      <td>925.000000</td>\n",
       "      <td>925.000000</td>\n",
       "      <td>925.000000</td>\n",
       "    </tr>\n",
       "    <tr>\n",
       "      <th>mean</th>\n",
       "      <td>1.330811</td>\n",
       "      <td>27.968649</td>\n",
       "      <td>3.736366</td>\n",
       "      <td>0.191361</td>\n",
       "      <td>3.311273</td>\n",
       "      <td>-1.158382</td>\n",
       "    </tr>\n",
       "    <tr>\n",
       "      <th>std</th>\n",
       "      <td>0.781809</td>\n",
       "      <td>5.557851</td>\n",
       "      <td>9.418103</td>\n",
       "      <td>0.381980</td>\n",
       "      <td>0.199732</td>\n",
       "      <td>1.891531</td>\n",
       "    </tr>\n",
       "    <tr>\n",
       "      <th>min</th>\n",
       "      <td>1.000000</td>\n",
       "      <td>18.000000</td>\n",
       "      <td>0.067000</td>\n",
       "      <td>0.000000</td>\n",
       "      <td>2.890372</td>\n",
       "      <td>-2.703063</td>\n",
       "    </tr>\n",
       "    <tr>\n",
       "      <th>25%</th>\n",
       "      <td>1.000000</td>\n",
       "      <td>23.000000</td>\n",
       "      <td>0.083000</td>\n",
       "      <td>0.000000</td>\n",
       "      <td>3.135494</td>\n",
       "      <td>-2.488915</td>\n",
       "    </tr>\n",
       "    <tr>\n",
       "      <th>50%</th>\n",
       "      <td>1.000000</td>\n",
       "      <td>27.000000</td>\n",
       "      <td>0.167000</td>\n",
       "      <td>0.000000</td>\n",
       "      <td>3.295837</td>\n",
       "      <td>-1.789761</td>\n",
       "    </tr>\n",
       "    <tr>\n",
       "      <th>75%</th>\n",
       "      <td>1.000000</td>\n",
       "      <td>32.000000</td>\n",
       "      <td>0.333000</td>\n",
       "      <td>0.000000</td>\n",
       "      <td>3.465736</td>\n",
       "      <td>-1.099613</td>\n",
       "    </tr>\n",
       "    <tr>\n",
       "      <th>max</th>\n",
       "      <td>10.000000</td>\n",
       "      <td>39.000000</td>\n",
       "      <td>90.000000</td>\n",
       "      <td>2.302585</td>\n",
       "      <td>3.663562</td>\n",
       "      <td>4.499810</td>\n",
       "    </tr>\n",
       "  </tbody>\n",
       "</table>\n",
       "</div>"
      ],
      "text/plain": [
       "       CHARGE_COUNT  AGE_AT_INCIDENT  TERM_IN_MONTHS  CHARGE_COUNT_LOG  \\\n",
       "count    925.000000       925.000000      925.000000        925.000000   \n",
       "mean       1.330811        27.968649        3.736366          0.191361   \n",
       "std        0.781809         5.557851        9.418103          0.381980   \n",
       "min        1.000000        18.000000        0.067000          0.000000   \n",
       "25%        1.000000        23.000000        0.083000          0.000000   \n",
       "50%        1.000000        27.000000        0.167000          0.000000   \n",
       "75%        1.000000        32.000000        0.333000          0.000000   \n",
       "max       10.000000        39.000000       90.000000          2.302585   \n",
       "\n",
       "       AGE_AT_INCIDENT_LOG  TERM_IN_MONTHS_LOG  \n",
       "count           925.000000          925.000000  \n",
       "mean              3.311273           -1.158382  \n",
       "std               0.199732            1.891531  \n",
       "min               2.890372           -2.703063  \n",
       "25%               3.135494           -2.488915  \n",
       "50%               3.295837           -1.789761  \n",
       "75%               3.465736           -1.099613  \n",
       "max               3.663562            4.499810  "
      ]
     },
     "execution_count": 23,
     "metadata": {},
     "output_type": "execute_result"
    }
   ],
   "source": [
    "regression_df.describe()"
   ]
  },
  {
   "cell_type": "code",
   "execution_count": 24,
   "id": "e064f975-3337-401a-87eb-2ef3b570c0e9",
   "metadata": {},
   "outputs": [
    {
     "data": {
      "text/html": [
       "<div>\n",
       "<style scoped>\n",
       "    .dataframe tbody tr th:only-of-type {\n",
       "        vertical-align: middle;\n",
       "    }\n",
       "\n",
       "    .dataframe tbody tr th {\n",
       "        vertical-align: top;\n",
       "    }\n",
       "\n",
       "    .dataframe thead th {\n",
       "        text-align: right;\n",
       "    }\n",
       "</style>\n",
       "<table border=\"1\" class=\"dataframe\">\n",
       "  <thead>\n",
       "    <tr style=\"text-align: right;\">\n",
       "      <th></th>\n",
       "      <th>CHARGE_COUNT</th>\n",
       "      <th>AGE_AT_INCIDENT</th>\n",
       "      <th>TERM_IN_MONTHS</th>\n",
       "      <th>CHARGE_COUNT_LOG</th>\n",
       "      <th>AGE_AT_INCIDENT_LOG</th>\n",
       "      <th>TERM_IN_MONTHS_LOG</th>\n",
       "      <th>RACE_UPDATED_Black</th>\n",
       "      <th>RACE_UPDATED_White</th>\n",
       "      <th>GENDER_Female</th>\n",
       "      <th>GENDER_Male</th>\n",
       "      <th>DISPOSITION_CHARGED_CLASS_1</th>\n",
       "      <th>DISPOSITION_CHARGED_CLASS_2</th>\n",
       "      <th>DISPOSITION_CHARGED_CLASS_3</th>\n",
       "      <th>DISPOSITION_CHARGED_CLASS_4</th>\n",
       "      <th>DISPOSITION_CHARGED_CLASS_X</th>\n",
       "      <th>DISPOSITION_TYPE_Found Guilty</th>\n",
       "      <th>DISPOSITION_TYPE_Plead Guilty</th>\n",
       "    </tr>\n",
       "  </thead>\n",
       "  <tbody>\n",
       "    <tr>\n",
       "      <th>62675</th>\n",
       "      <td>3</td>\n",
       "      <td>25.0</td>\n",
       "      <td>0.417</td>\n",
       "      <td>1.098612</td>\n",
       "      <td>3.218876</td>\n",
       "      <td>-0.874669</td>\n",
       "      <td>1</td>\n",
       "      <td>0</td>\n",
       "      <td>0</td>\n",
       "      <td>1</td>\n",
       "      <td>0</td>\n",
       "      <td>1</td>\n",
       "      <td>0</td>\n",
       "      <td>0</td>\n",
       "      <td>0</td>\n",
       "      <td>0</td>\n",
       "      <td>1</td>\n",
       "    </tr>\n",
       "    <tr>\n",
       "      <th>62694</th>\n",
       "      <td>2</td>\n",
       "      <td>39.0</td>\n",
       "      <td>0.083</td>\n",
       "      <td>0.693147</td>\n",
       "      <td>3.663562</td>\n",
       "      <td>-2.488915</td>\n",
       "      <td>1</td>\n",
       "      <td>0</td>\n",
       "      <td>0</td>\n",
       "      <td>1</td>\n",
       "      <td>0</td>\n",
       "      <td>0</td>\n",
       "      <td>0</td>\n",
       "      <td>1</td>\n",
       "      <td>0</td>\n",
       "      <td>0</td>\n",
       "      <td>1</td>\n",
       "    </tr>\n",
       "    <tr>\n",
       "      <th>62925</th>\n",
       "      <td>2</td>\n",
       "      <td>30.0</td>\n",
       "      <td>0.333</td>\n",
       "      <td>0.693147</td>\n",
       "      <td>3.401197</td>\n",
       "      <td>-1.099613</td>\n",
       "      <td>1</td>\n",
       "      <td>0</td>\n",
       "      <td>0</td>\n",
       "      <td>1</td>\n",
       "      <td>1</td>\n",
       "      <td>0</td>\n",
       "      <td>0</td>\n",
       "      <td>0</td>\n",
       "      <td>0</td>\n",
       "      <td>0</td>\n",
       "      <td>1</td>\n",
       "    </tr>\n",
       "  </tbody>\n",
       "</table>\n",
       "</div>"
      ],
      "text/plain": [
       "       CHARGE_COUNT  AGE_AT_INCIDENT  TERM_IN_MONTHS  CHARGE_COUNT_LOG  \\\n",
       "62675             3             25.0           0.417          1.098612   \n",
       "62694             2             39.0           0.083          0.693147   \n",
       "62925             2             30.0           0.333          0.693147   \n",
       "\n",
       "       AGE_AT_INCIDENT_LOG  TERM_IN_MONTHS_LOG  RACE_UPDATED_Black  \\\n",
       "62675             3.218876           -0.874669                   1   \n",
       "62694             3.663562           -2.488915                   1   \n",
       "62925             3.401197           -1.099613                   1   \n",
       "\n",
       "       RACE_UPDATED_White  GENDER_Female  GENDER_Male  \\\n",
       "62675                   0              0            1   \n",
       "62694                   0              0            1   \n",
       "62925                   0              0            1   \n",
       "\n",
       "       DISPOSITION_CHARGED_CLASS_1  DISPOSITION_CHARGED_CLASS_2  \\\n",
       "62675                            0                            1   \n",
       "62694                            0                            0   \n",
       "62925                            1                            0   \n",
       "\n",
       "       DISPOSITION_CHARGED_CLASS_3  DISPOSITION_CHARGED_CLASS_4  \\\n",
       "62675                            0                            0   \n",
       "62694                            0                            1   \n",
       "62925                            0                            0   \n",
       "\n",
       "       DISPOSITION_CHARGED_CLASS_X  DISPOSITION_TYPE_Found Guilty  \\\n",
       "62675                            0                              0   \n",
       "62694                            0                              0   \n",
       "62925                            0                              0   \n",
       "\n",
       "       DISPOSITION_TYPE_Plead Guilty  \n",
       "62675                              1  \n",
       "62694                              1  \n",
       "62925                              1  "
      ]
     },
     "execution_count": 24,
     "metadata": {},
     "output_type": "execute_result"
    }
   ],
   "source": [
    "# getting binary numeric form for all categorical variables \n",
    "regression_df = pd.get_dummies(regression_df)\n",
    "regression_df.head(3)"
   ]
  },
  {
   "cell_type": "code",
   "execution_count": 25,
   "id": "c31e17d4-1ff9-4ad6-9ba0-acfd6f087b04",
   "metadata": {},
   "outputs": [],
   "source": [
    "# definning the two dependent variables to be used \n",
    "y = regression_df['TERM_IN_MONTHS']\n",
    "y_log = regression_df['TERM_IN_MONTHS_LOG']"
   ]
  },
  {
   "cell_type": "code",
   "execution_count": 26,
   "id": "b38ec3b0-65fb-404a-941e-2264dd6accb5",
   "metadata": {},
   "outputs": [],
   "source": [
    "#defining x for a simple regression on race and sentence\n",
    "x_1 = regression_df[['RACE_UPDATED_Black','CHARGE_COUNT', 'AGE_AT_INCIDENT','GENDER_Female','DISPOSITION_TYPE_Plead Guilty']]\n",
    "x_1 = sm.add_constant(x_1)"
   ]
  },
  {
   "cell_type": "code",
   "execution_count": 27,
   "id": "dddafac3-7335-497d-a7ce-833fc500dd6a",
   "metadata": {},
   "outputs": [
    {
     "name": "stdout",
     "output_type": "stream",
     "text": [
      "                            OLS Regression Results                            \n",
      "==============================================================================\n",
      "Dep. Variable:         TERM_IN_MONTHS   R-squared:                       0.009\n",
      "Model:                            OLS   Adj. R-squared:                  0.003\n",
      "Method:                 Least Squares   F-statistic:                     1.624\n",
      "Date:                Sat, 08 Oct 2022   Prob (F-statistic):              0.151\n",
      "Time:                        14:57:23   Log-Likelihood:                -3382.4\n",
      "No. Observations:                 925   AIC:                             6777.\n",
      "Df Residuals:                     919   BIC:                             6806.\n",
      "Df Model:                           5                                         \n",
      "Covariance Type:            nonrobust                                         \n",
      "=================================================================================================\n",
      "                                    coef    std err          t      P>|t|      [0.025      0.975]\n",
      "-------------------------------------------------------------------------------------------------\n",
      "const                            -1.2602      2.767     -0.455      0.649      -6.690       4.170\n",
      "RACE_UPDATED_Black                2.5925      1.051      2.468      0.014       0.531       4.655\n",
      "CHARGE_COUNT                      0.1030      0.396      0.260      0.795      -0.675       0.881\n",
      "AGE_AT_INCIDENT                   0.0905      0.056      1.603      0.109      -0.020       0.201\n",
      "GENDER_Female                    -0.5632      1.404     -0.401      0.688      -3.318       2.192\n",
      "DISPOSITION_TYPE_Plead Guilty     0.0238      1.945      0.012      0.990      -3.793       3.841\n",
      "==============================================================================\n",
      "Omnibus:                      687.697   Durbin-Watson:                   2.092\n",
      "Prob(Omnibus):                  0.000   Jarque-Bera (JB):            10814.037\n",
      "Skew:                           3.322   Prob(JB):                         0.00\n",
      "Kurtosis:                      18.377   Cond. No.                         292.\n",
      "==============================================================================\n",
      "\n",
      "Notes:\n",
      "[1] Standard Errors assume that the covariance matrix of the errors is correctly specified.\n"
     ]
    }
   ],
   "source": [
    "model_1 = sm.OLS(y, x_1).fit()\n",
    "print(model_1.summary())"
   ]
  },
  {
   "cell_type": "code",
   "execution_count": 28,
   "id": "2338ac97-85bd-4604-9c23-4df080d5ab2f",
   "metadata": {},
   "outputs": [],
   "source": [
    "regression_df.to_csv('test.csv')"
   ]
  },
  {
   "cell_type": "code",
   "execution_count": null,
   "id": "962c7248-c6a5-4647-ba8c-e0ef418f820c",
   "metadata": {},
   "outputs": [],
   "source": []
  },
  {
   "cell_type": "code",
   "execution_count": null,
   "id": "8c7b8ee1-d7cf-45c1-be83-8a5c80d97a7b",
   "metadata": {},
   "outputs": [],
   "source": []
  },
  {
   "cell_type": "code",
   "execution_count": null,
   "id": "0b81d5d6-3cad-489e-908c-04b91da085b7",
   "metadata": {},
   "outputs": [],
   "source": []
  },
  {
   "cell_type": "code",
   "execution_count": null,
   "id": "d1f56324-ebb0-4296-8a5c-3c8d6d085ba0",
   "metadata": {},
   "outputs": [],
   "source": []
  },
  {
   "cell_type": "code",
   "execution_count": null,
   "id": "a29ee642-87ad-443a-8bf1-bfe60af78aba",
   "metadata": {},
   "outputs": [],
   "source": []
  }
 ],
 "metadata": {
  "kernelspec": {
   "display_name": "Python 3 (ipykernel)",
   "language": "python",
   "name": "python3"
  },
  "language_info": {
   "codemirror_mode": {
    "name": "ipython",
    "version": 3
   },
   "file_extension": ".py",
   "mimetype": "text/x-python",
   "name": "python",
   "nbconvert_exporter": "python",
   "pygments_lexer": "ipython3",
   "version": "3.8.13"
  }
 },
 "nbformat": 4,
 "nbformat_minor": 5
}
