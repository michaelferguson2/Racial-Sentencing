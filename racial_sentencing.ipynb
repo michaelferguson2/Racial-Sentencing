{
 "cells": [
  {
   "cell_type": "markdown",
   "id": "49611443-6922-417d-a9aa-cd1c442ef714",
   "metadata": {
    "tags": []
   },
   "source": [
    "# Racial Differences in Sentencing \n",
    "\n",
    "In the United States issues around race have been, and continue to be, an important element of American culture and society. With the adoption of the Civil Rights Act of 1964, legal race-based discrimination is now illegal. However, many economists, sociologists, and political scientists have argued that the legacy of these past policies and practices still negatively affect people in the United States today. \n",
    "\n",
    "Policy makers who wish to address these programs need to understand the extent of these issues so they can properly implement new or revise current laws. This notebook uses data from Cook County, IL and basic econometric tools to determine the extent of racial bias in prison sentence length for Black and White Americans. "
   ]
  },
  {
   "cell_type": "code",
   "execution_count": 1,
   "id": "afac8a31-b5b2-4e09-ac09-0854a6927c64",
   "metadata": {},
   "outputs": [],
   "source": [
    "%matplotlib inline\n",
    "import pandas as pd\n",
    "import numpy as np\n",
    "import statsmodels.api as sm\n",
    "import matplotlib.pyplot as plt\n",
    "import seaborn as sns"
   ]
  },
  {
   "cell_type": "code",
   "execution_count": 2,
   "id": "3b8493d2-7b59-4b97-8ac3-04e874a45abf",
   "metadata": {},
   "outputs": [],
   "source": [
    "import_df = pd.read_csv('sentencing.csv', dtype={'DISPOSITION_CHARGED_CHAPTER':'str','DISPOSITION_CHARGED_ACT':'str',\n",
    "                                                'DISPOSITION_CHARGED_AOIC':'str','COMMITMENT_TERM':'object'})"
   ]
  },
  {
   "cell_type": "code",
   "execution_count": 3,
   "id": "59bf4cc5-b6fe-4dc3-830d-c5319bd3fb5e",
   "metadata": {},
   "outputs": [
    {
     "data": {
      "text/plain": [
       "(265706, 41)"
      ]
     },
     "execution_count": 3,
     "metadata": {},
     "output_type": "execute_result"
    }
   ],
   "source": [
    "sentencing_df = import_df.copy(deep=True)\n",
    "sentencing_df.shape"
   ]
  },
  {
   "cell_type": "code",
   "execution_count": 4,
   "id": "edc9f3c9-b76b-44a5-9194-e92560a45770",
   "metadata": {},
   "outputs": [
    {
     "data": {
      "text/html": [
       "<div>\n",
       "<style scoped>\n",
       "    .dataframe tbody tr th:only-of-type {\n",
       "        vertical-align: middle;\n",
       "    }\n",
       "\n",
       "    .dataframe tbody tr th {\n",
       "        vertical-align: top;\n",
       "    }\n",
       "\n",
       "    .dataframe thead th {\n",
       "        text-align: right;\n",
       "    }\n",
       "</style>\n",
       "<table border=\"1\" class=\"dataframe\">\n",
       "  <thead>\n",
       "    <tr style=\"text-align: right;\">\n",
       "      <th></th>\n",
       "      <th>CASE_ID</th>\n",
       "      <th>CASE_PARTICIPANT_ID</th>\n",
       "      <th>RECEIVED_DATE</th>\n",
       "      <th>OFFENSE_CATEGORY</th>\n",
       "      <th>PRIMARY_CHARGE_FLAG</th>\n",
       "      <th>CHARGE_ID</th>\n",
       "      <th>CHARGE_VERSION_ID</th>\n",
       "      <th>DISPOSITION_CHARGED_OFFENSE_TITLE</th>\n",
       "      <th>CHARGE_COUNT</th>\n",
       "      <th>DISPOSITION_DATE</th>\n",
       "      <th>...</th>\n",
       "      <th>INCIDENT_CITY</th>\n",
       "      <th>INCIDENT_BEGIN_DATE</th>\n",
       "      <th>INCIDENT_END_DATE</th>\n",
       "      <th>LAW_ENFORCEMENT_AGENCY</th>\n",
       "      <th>LAW_ENFORCEMENT_UNIT</th>\n",
       "      <th>ARREST_DATE</th>\n",
       "      <th>FELONY_REVIEW_DATE</th>\n",
       "      <th>FELONY_REVIEW_RESULT</th>\n",
       "      <th>ARRAIGNMENT_DATE</th>\n",
       "      <th>UPDATED_OFFENSE_CATEGORY</th>\n",
       "    </tr>\n",
       "  </thead>\n",
       "  <tbody>\n",
       "    <tr>\n",
       "      <th>0</th>\n",
       "      <td>2.263280e+11</td>\n",
       "      <td>8.314865e+10</td>\n",
       "      <td>2/5/2002 0:00</td>\n",
       "      <td>PROMIS Conversion</td>\n",
       "      <td>True</td>\n",
       "      <td>6.238910e+12</td>\n",
       "      <td>1.097000e+12</td>\n",
       "      <td>CONSPIRACY TO COMMIT FIRST DEGREE MURDER</td>\n",
       "      <td>1</td>\n",
       "      <td>6/17/2019 0:00</td>\n",
       "      <td>...</td>\n",
       "      <td>NaN</td>\n",
       "      <td>7/2/2000 0:00</td>\n",
       "      <td>NaN</td>\n",
       "      <td>CHICAGO POLICE DEPT</td>\n",
       "      <td>NaN</td>\n",
       "      <td>10/8/2016 20:00</td>\n",
       "      <td>10/9/2016 0:00</td>\n",
       "      <td>Approved</td>\n",
       "      <td>11/7/2016 0:00</td>\n",
       "      <td>PROMIS Conversion</td>\n",
       "    </tr>\n",
       "    <tr>\n",
       "      <th>1</th>\n",
       "      <td>2.454920e+11</td>\n",
       "      <td>8.979522e+10</td>\n",
       "      <td>12/6/2004 0:00</td>\n",
       "      <td>PROMIS Conversion</td>\n",
       "      <td>True</td>\n",
       "      <td>1.811430e+12</td>\n",
       "      <td>3.578730e+11</td>\n",
       "      <td>MFG/DEL CONTROLLED SUBSTANCE</td>\n",
       "      <td>1</td>\n",
       "      <td>9/8/2011 0:00</td>\n",
       "      <td>...</td>\n",
       "      <td>NaN</td>\n",
       "      <td>8/4/2004 0:00</td>\n",
       "      <td>NaN</td>\n",
       "      <td>NARC ORG CRIME DIVSN - UNIT 91</td>\n",
       "      <td>NaN</td>\n",
       "      <td>10/15/2010 9:05</td>\n",
       "      <td>NaN</td>\n",
       "      <td>NaN</td>\n",
       "      <td>9/9/2010 0:00</td>\n",
       "      <td>PROMIS Conversion</td>\n",
       "    </tr>\n",
       "    <tr>\n",
       "      <th>2</th>\n",
       "      <td>2.470270e+11</td>\n",
       "      <td>9.178907e+10</td>\n",
       "      <td>5/11/2005 0:00</td>\n",
       "      <td>PROMIS Conversion</td>\n",
       "      <td>True</td>\n",
       "      <td>1.959610e+12</td>\n",
       "      <td>2.215030e+11</td>\n",
       "      <td>DUI LIC SUSPENDED OR REVOKED (EFFECTIVE 4-13-2...</td>\n",
       "      <td>1</td>\n",
       "      <td>9/24/2013 0:00</td>\n",
       "      <td>...</td>\n",
       "      <td>NaN</td>\n",
       "      <td>4/9/2005 0:00</td>\n",
       "      <td>4/9/2005 0:00</td>\n",
       "      <td>C P D AREA 4 DIST 10</td>\n",
       "      <td>NaN</td>\n",
       "      <td>4/9/2005 2:35</td>\n",
       "      <td>5/11/2005 0:00</td>\n",
       "      <td>Sf</td>\n",
       "      <td>NaN</td>\n",
       "      <td>PROMIS Conversion</td>\n",
       "    </tr>\n",
       "  </tbody>\n",
       "</table>\n",
       "<p>3 rows × 41 columns</p>\n",
       "</div>"
      ],
      "text/plain": [
       "        CASE_ID  CASE_PARTICIPANT_ID   RECEIVED_DATE   OFFENSE_CATEGORY  \\\n",
       "0  2.263280e+11         8.314865e+10   2/5/2002 0:00  PROMIS Conversion   \n",
       "1  2.454920e+11         8.979522e+10  12/6/2004 0:00  PROMIS Conversion   \n",
       "2  2.470270e+11         9.178907e+10  5/11/2005 0:00  PROMIS Conversion   \n",
       "\n",
       "   PRIMARY_CHARGE_FLAG     CHARGE_ID  CHARGE_VERSION_ID  \\\n",
       "0                 True  6.238910e+12       1.097000e+12   \n",
       "1                 True  1.811430e+12       3.578730e+11   \n",
       "2                 True  1.959610e+12       2.215030e+11   \n",
       "\n",
       "                   DISPOSITION_CHARGED_OFFENSE_TITLE  CHARGE_COUNT  \\\n",
       "0           CONSPIRACY TO COMMIT FIRST DEGREE MURDER             1   \n",
       "1                       MFG/DEL CONTROLLED SUBSTANCE             1   \n",
       "2  DUI LIC SUSPENDED OR REVOKED (EFFECTIVE 4-13-2...             1   \n",
       "\n",
       "  DISPOSITION_DATE  ... INCIDENT_CITY INCIDENT_BEGIN_DATE INCIDENT_END_DATE  \\\n",
       "0   6/17/2019 0:00  ...           NaN       7/2/2000 0:00               NaN   \n",
       "1    9/8/2011 0:00  ...           NaN       8/4/2004 0:00               NaN   \n",
       "2   9/24/2013 0:00  ...           NaN       4/9/2005 0:00     4/9/2005 0:00   \n",
       "\n",
       "           LAW_ENFORCEMENT_AGENCY LAW_ENFORCEMENT_UNIT      ARREST_DATE  \\\n",
       "0             CHICAGO POLICE DEPT                  NaN  10/8/2016 20:00   \n",
       "1  NARC ORG CRIME DIVSN - UNIT 91                  NaN  10/15/2010 9:05   \n",
       "2            C P D AREA 4 DIST 10                  NaN    4/9/2005 2:35   \n",
       "\n",
       "  FELONY_REVIEW_DATE FELONY_REVIEW_RESULT ARRAIGNMENT_DATE  \\\n",
       "0     10/9/2016 0:00             Approved   11/7/2016 0:00   \n",
       "1                NaN                  NaN    9/9/2010 0:00   \n",
       "2     5/11/2005 0:00                   Sf              NaN   \n",
       "\n",
       "  UPDATED_OFFENSE_CATEGORY  \n",
       "0        PROMIS Conversion  \n",
       "1        PROMIS Conversion  \n",
       "2        PROMIS Conversion  \n",
       "\n",
       "[3 rows x 41 columns]"
      ]
     },
     "execution_count": 4,
     "metadata": {},
     "output_type": "execute_result"
    }
   ],
   "source": [
    "sentencing_df.head(3)"
   ]
  },
  {
   "cell_type": "markdown",
   "id": "9ec9aa64-5103-4fe1-836d-816ed6cb2587",
   "metadata": {
    "tags": []
   },
   "source": [
    "## Filtering Down to Desired Defendants\n",
    "For this notebook, we will limit our focus to only Black and White Americans between the ages of 18 and 39, who were arrested between 2010 and 2019 for a felony narcotics charge, and were sentenced to some time in prison. This is to allow us to compare a mostly similar group of individuals to each other."
   ]
  },
  {
   "cell_type": "code",
   "execution_count": 5,
   "id": "21cff1c9-49cf-414a-8f16-1cd2619d7694",
   "metadata": {},
   "outputs": [
    {
     "data": {
      "text/plain": [
       "Index(['CASE_ID', 'CASE_PARTICIPANT_ID', 'RECEIVED_DATE', 'OFFENSE_CATEGORY',\n",
       "       'PRIMARY_CHARGE_FLAG', 'CHARGE_ID', 'CHARGE_VERSION_ID',\n",
       "       'DISPOSITION_CHARGED_OFFENSE_TITLE', 'CHARGE_COUNT', 'DISPOSITION_DATE',\n",
       "       'DISPOSITION_CHARGED_CHAPTER', 'DISPOSITION_CHARGED_ACT',\n",
       "       'DISPOSITION_CHARGED_SECTION', 'DISPOSITION_CHARGED_CLASS',\n",
       "       'DISPOSITION_CHARGED_AOIC', 'CHARGE_DISPOSITION',\n",
       "       'CHARGE_DISPOSITION_REASON', 'SENTENCE_JUDGE', 'SENTENCE_COURT_NAME',\n",
       "       'SENTENCE_COURT_FACILITY', 'SENTENCE_PHASE', 'SENTENCE_DATE',\n",
       "       'SENTENCE_TYPE', 'CURRENT_SENTENCE_FLAG', 'COMMITMENT_TYPE',\n",
       "       'COMMITMENT_TERM', 'COMMITMENT_UNIT', 'LENGTH_OF_CASE_in_Days',\n",
       "       'AGE_AT_INCIDENT', 'RACE', 'GENDER', 'INCIDENT_CITY',\n",
       "       'INCIDENT_BEGIN_DATE', 'INCIDENT_END_DATE', 'LAW_ENFORCEMENT_AGENCY',\n",
       "       'LAW_ENFORCEMENT_UNIT', 'ARREST_DATE', 'FELONY_REVIEW_DATE',\n",
       "       'FELONY_REVIEW_RESULT', 'ARRAIGNMENT_DATE', 'UPDATED_OFFENSE_CATEGORY'],\n",
       "      dtype='object')"
      ]
     },
     "execution_count": 5,
     "metadata": {},
     "output_type": "execute_result"
    }
   ],
   "source": [
    "sentencing_df.columns"
   ]
  },
  {
   "cell_type": "code",
   "execution_count": 6,
   "id": "18c5ea12-27ba-44da-a9c1-e1fa1300b8da",
   "metadata": {},
   "outputs": [],
   "source": [
    "# filtering dataframe to only keep cases related to narcotics \n",
    "sentencing_df = sentencing_df[sentencing_df['UPDATED_OFFENSE_CATEGORY'] == 'Narcotics']"
   ]
  },
  {
   "cell_type": "code",
   "execution_count": 7,
   "id": "17630dfa-96ba-4db3-972e-725f84df6862",
   "metadata": {},
   "outputs": [],
   "source": [
    "# changing the ARREST_DATE variable to datetime from string to allow filtering by date\n",
    "sentencing_df['ARREST_DATE'] = pd.to_datetime(sentencing_df['ARREST_DATE'])\n",
    "\n",
    "# filtering the dataframe to only have \n",
    "sentencing_df = sentencing_df[sentencing_df['ARREST_DATE'].between('2010-01-01', '2019-12-31')]"
   ]
  },
  {
   "cell_type": "code",
   "execution_count": 8,
   "id": "9a656fb0-4410-4c6c-a195-383c6492281f",
   "metadata": {},
   "outputs": [],
   "source": [
    "# filtering dataframe to only have defendants between ages getting ages between 18 and 39\n",
    "sentencing_df = sentencing_df[sentencing_df['AGE_AT_INCIDENT'].between(18, 39)]"
   ]
  },
  {
   "cell_type": "code",
   "execution_count": 9,
   "id": "9e304420-5ca6-44bb-ad11-a77258d98620",
   "metadata": {},
   "outputs": [],
   "source": [
    "# main variables to be used, dropping na values \n",
    "keep_list = ['CHARGE_COUNT','AGE_AT_INCIDENT','RACE','GENDER', 'COMMITMENT_TERM',\n",
    "             'COMMITMENT_UNIT','DISPOSITION_CHARGED_CLASS','SENTENCE_TYPE']\n",
    "\n",
    "sentencing_df = sentencing_df.dropna(subset=keep_list)"
   ]
  },
  {
   "cell_type": "code",
   "execution_count": 10,
   "id": "1b3b3fb7-1379-4a39-b897-d5499927d73b",
   "metadata": {},
   "outputs": [],
   "source": [
    "# filtering dataset for only felony crimes\n",
    "felony_list = ['X', '1', '2', '3', '4']\n",
    "sentencing_df = sentencing_df[sentencing_df['DISPOSITION_CHARGED_CLASS'].isin(felony_list)]"
   ]
  },
  {
   "cell_type": "code",
   "execution_count": 11,
   "id": "2f670ba2-7747-475d-bfc8-11820117e818",
   "metadata": {},
   "outputs": [],
   "source": [
    "# filtering for only instances where the the defendent was sentanced to prison \n",
    "sentencing_df = sentencing_df[sentencing_df['SENTENCE_TYPE'] == 'Prison']"
   ]
  },
  {
   "cell_type": "code",
   "execution_count": 12,
   "id": "6e306914-b8c3-43de-b6fd-f7bc41cb4de7",
   "metadata": {},
   "outputs": [],
   "source": [
    "# updating commitment term to numeric \n",
    "sentencing_df['COMMITMENT_TERM'] = sentencing_df['COMMITMENT_TERM'].astype('float')"
   ]
  },
  {
   "cell_type": "code",
   "execution_count": 13,
   "id": "ac358faf-e6e5-4b50-b846-d677741aa8c2",
   "metadata": {},
   "outputs": [],
   "source": [
    "# filtering dataframe to only include commitment units in years, months, or days \n",
    "sentencing_df = sentencing_df[\n",
    "    (sentencing_df['COMMITMENT_UNIT']=='Year(s)') | \n",
    "    (sentencing_df['COMMITMENT_UNIT']=='Months') | \n",
    "    (sentencing_df['COMMITMENT_UNIT']=='Days')]\n",
    "\n",
    "# removing 0 from commitmnet term \n",
    "sentencing_df = sentencing_df[sentencing_df['COMMITMENT_TERM'] != 0]"
   ]
  },
  {
   "cell_type": "code",
   "execution_count": 14,
   "id": "53faa22e-e069-4a62-9c95-6fcd9f563ddc",
   "metadata": {},
   "outputs": [],
   "source": [
    "# filtering dataframe to remove unknown gender\n",
    "sentencing_df = sentencing_df[\n",
    "    (sentencing_df['GENDER']=='Female') | \n",
    "    (sentencing_df['GENDER']=='Male')]\n",
    "\n",
    "sentencing_df['GENDER'] = sentencing_df['GENDER'].str.upper()"
   ]
  },
  {
   "cell_type": "markdown",
   "id": "5bc88c8a-6628-4006-a57c-4e954d4bb953",
   "metadata": {
    "tags": []
   },
   "source": [
    "## Creating New Variables\n",
    "In order to aid the the contruction of the regression analysis, I will create a few new variables that capture important information about the defenants. \n",
    "1. DISPOSITION_TYPE: A binary variable indicating whether the defenant plead guilty or if a judge/jury found them guilty\n",
    "2. TERM_IN_MONTHS: An update of the commitment variable where the duration of each sentence is converted into months rather than different units of years, months, and days \n",
    "3. RACE_UPDATED: An update of the RACE variable that properly classifies Black and White individuals and classifies other races as \"Other\"\n",
    "\n",
    "In addition to the three mentioned above, a log transformation will be taken for all continuous variables to allow percentage comparison to be estimated. \n"
   ]
  },
  {
   "cell_type": "code",
   "execution_count": 15,
   "id": "d3de07ca-71d3-4174-ad91-52395fd542d1",
   "metadata": {},
   "outputs": [],
   "source": [
    "# creating variable for whether the defendant plead guily or was found guilty\n",
    "\n",
    "DISPOSITION_TYPE = []\n",
    "\n",
    "for index, row in sentencing_df.iterrows():\n",
    "    if row['CHARGE_DISPOSITION'] == 'Plea Of Guilty':\n",
    "        DISPOSITION_TYPE.append('PLEAD_GUILTY')\n",
    "    elif row['CHARGE_DISPOSITION'] == 'Finding Guilty' or 'Verdict Guilty':\n",
    "        DISPOSITION_TYPE.append('FOUND_GUILTY')\n",
    "    else:\n",
    "        DISPOSITION_TYPE.append('OTHER')\n",
    "\n",
    "\n",
    "sentencing_df['DISPOSITION_TYPE'] = DISPOSITION_TYPE  \n",
    "\n",
    "# filtering for only guilty verdicts\n",
    "sentencing_df = sentencing_df[sentencing_df['DISPOSITION_TYPE'] != 'OTHER']"
   ]
  },
  {
   "cell_type": "code",
   "execution_count": 16,
   "id": "d4b480a0-70ab-457c-9baa-c8c9dfd20cf9",
   "metadata": {},
   "outputs": [],
   "source": [
    "# creating a new column to standardize sentence duration to around months\n",
    "SENTENCE_TERM = []\n",
    "\n",
    "for index, row in sentencing_df.iterrows():\n",
    "    if row['COMMITMENT_UNIT'] == 'Year(s)':\n",
    "        SENTENCE_TERM.append(row['COMMITMENT_TERM']/12)\n",
    "        \n",
    "    elif row['COMMITMENT_UNIT'] == 'Months':\n",
    "        SENTENCE_TERM.append(row['COMMITMENT_TERM']/1)\n",
    "        \n",
    "    elif row['COMMITMENT_UNIT'] == 'Days':\n",
    "        SENTENCE_TERM.append(row['COMMITMENT_TERM']/30)\n",
    "        \n",
    "sentencing_df['SENTENCE_TERM'] = np.round(SENTENCE_TERM, 3) "
   ]
  },
  {
   "cell_type": "code",
   "execution_count": 17,
   "id": "815d4d33-57b7-4f6f-a9d6-a2cf7254ef14",
   "metadata": {},
   "outputs": [],
   "source": [
    "# updating race to remove unknown and classifying race - black, white\n",
    "\n",
    "RACE_UPDATED = []\n",
    "\n",
    "for index, row in sentencing_df.iterrows():\n",
    "    if 'Black' in row['RACE']:\n",
    "        RACE_UPDATED.append('BLACK')\n",
    "    elif row['RACE'] == 'White':\n",
    "        RACE_UPDATED.append('WHITE')\n",
    "    else:\n",
    "        RACE_UPDATED.append('OTHER')\n",
    "\n",
    "sentencing_df['RACE'] = RACE_UPDATED\n",
    "\n",
    "\n",
    "# filtering dataframe to only include Black and White individuals \n",
    "sentencing_df = sentencing_df[sentencing_df['RACE'] != 'OTHER']"
   ]
  },
  {
   "cell_type": "code",
   "execution_count": 18,
   "id": "90117180-fbfc-4799-828a-7999580111f9",
   "metadata": {},
   "outputs": [],
   "source": [
    "# filtering to only usable features \n",
    "feature_list = ['CHARGE_COUNT','AGE_AT_INCIDENT','RACE','GENDER',\n",
    "                'SENTENCE_TERM','DISPOSITION_TYPE']\n",
    "\n",
    "regression_df = sentencing_df[feature_list].copy(deep=True)"
   ]
  },
  {
   "cell_type": "code",
   "execution_count": 19,
   "id": "b158eb0f-b940-41ae-a1b2-aaaf2f10dd55",
   "metadata": {},
   "outputs": [],
   "source": [
    "# log transformation for all continuous variables \n",
    "regression_df['CHARGE_COUNT_LOG'] = np.log(sentencing_df['CHARGE_COUNT'])\n",
    "regression_df['AGE_AT_INCIDENT_LOG'] = np.log(sentencing_df['AGE_AT_INCIDENT'])\n",
    "regression_df['SENTENCE_TERM_LOG'] = np.log(sentencing_df['SENTENCE_TERM'])"
   ]
  },
  {
   "cell_type": "markdown",
   "id": "d4354e1a-e134-47a1-832a-55d7a2079930",
   "metadata": {
    "tags": []
   },
   "source": [
    "## Visualizing the Dataset\n",
    "\n",
    "The visualizations below mostly confirm the expectations of the dataset. The two box plots show that Black defendants are more likely to be sentenced to longer terms compared to White defendants and that males are more likely to serve longer than females, even accounting for extreme outliers. \n",
    "\n",
    "We can also see that the vast majority of defendants plead guilty to there cases. A trend that is often noted in discussions of criminal justice reform.\n",
    "\n",
    "The correlation heatmap displays weaker correlations between the Charge Count, Age at Incident, and Sentence Term variables than expected."
   ]
  },
  {
   "cell_type": "code",
   "execution_count": 20,
   "id": "1cdd8040-46f3-4a06-bd02-6859f06670fb",
   "metadata": {},
   "outputs": [
    {
     "data": {
      "text/plain": [
       "Index(['CHARGE_COUNT', 'AGE_AT_INCIDENT', 'RACE', 'GENDER', 'SENTENCE_TERM',\n",
       "       'DISPOSITION_TYPE', 'CHARGE_COUNT_LOG', 'AGE_AT_INCIDENT_LOG',\n",
       "       'SENTENCE_TERM_LOG'],\n",
       "      dtype='object')"
      ]
     },
     "execution_count": 20,
     "metadata": {},
     "output_type": "execute_result"
    }
   ],
   "source": [
    "regression_df.columns"
   ]
  },
  {
   "cell_type": "code",
   "execution_count": 21,
   "id": "874fe5cc-63d4-4bf3-9f49-be2cd56fe2aa",
   "metadata": {},
   "outputs": [
    {
     "data": {
      "text/html": [
       "<div>\n",
       "<style scoped>\n",
       "    .dataframe tbody tr th:only-of-type {\n",
       "        vertical-align: middle;\n",
       "    }\n",
       "\n",
       "    .dataframe tbody tr th {\n",
       "        vertical-align: top;\n",
       "    }\n",
       "\n",
       "    .dataframe thead th {\n",
       "        text-align: right;\n",
       "    }\n",
       "</style>\n",
       "<table border=\"1\" class=\"dataframe\">\n",
       "  <thead>\n",
       "    <tr style=\"text-align: right;\">\n",
       "      <th></th>\n",
       "      <th>CHARGE_COUNT</th>\n",
       "      <th>AGE_AT_INCIDENT</th>\n",
       "      <th>SENTENCE_TERM</th>\n",
       "      <th>CHARGE_COUNT_LOG</th>\n",
       "      <th>AGE_AT_INCIDENT_LOG</th>\n",
       "      <th>SENTENCE_TERM_LOG</th>\n",
       "    </tr>\n",
       "  </thead>\n",
       "  <tbody>\n",
       "    <tr>\n",
       "      <th>count</th>\n",
       "      <td>18485.000000</td>\n",
       "      <td>18485.000000</td>\n",
       "      <td>18485.000000</td>\n",
       "      <td>18485.000000</td>\n",
       "      <td>18485.000000</td>\n",
       "      <td>18485.000000</td>\n",
       "    </tr>\n",
       "    <tr>\n",
       "      <th>mean</th>\n",
       "      <td>1.512794</td>\n",
       "      <td>27.584853</td>\n",
       "      <td>3.636059</td>\n",
       "      <td>0.269527</td>\n",
       "      <td>3.295000</td>\n",
       "      <td>-1.020910</td>\n",
       "    </tr>\n",
       "    <tr>\n",
       "      <th>std</th>\n",
       "      <td>1.377357</td>\n",
       "      <td>5.809397</td>\n",
       "      <td>10.093980</td>\n",
       "      <td>0.458561</td>\n",
       "      <td>0.211610</td>\n",
       "      <td>1.762894</td>\n",
       "    </tr>\n",
       "    <tr>\n",
       "      <th>min</th>\n",
       "      <td>1.000000</td>\n",
       "      <td>18.000000</td>\n",
       "      <td>0.067000</td>\n",
       "      <td>0.000000</td>\n",
       "      <td>2.890372</td>\n",
       "      <td>-2.703063</td>\n",
       "    </tr>\n",
       "    <tr>\n",
       "      <th>25%</th>\n",
       "      <td>1.000000</td>\n",
       "      <td>23.000000</td>\n",
       "      <td>0.083000</td>\n",
       "      <td>0.000000</td>\n",
       "      <td>3.135494</td>\n",
       "      <td>-2.488915</td>\n",
       "    </tr>\n",
       "    <tr>\n",
       "      <th>50%</th>\n",
       "      <td>1.000000</td>\n",
       "      <td>27.000000</td>\n",
       "      <td>0.250000</td>\n",
       "      <td>0.000000</td>\n",
       "      <td>3.295837</td>\n",
       "      <td>-1.386294</td>\n",
       "    </tr>\n",
       "    <tr>\n",
       "      <th>75%</th>\n",
       "      <td>2.000000</td>\n",
       "      <td>32.000000</td>\n",
       "      <td>0.417000</td>\n",
       "      <td>0.693147</td>\n",
       "      <td>3.465736</td>\n",
       "      <td>-0.874669</td>\n",
       "    </tr>\n",
       "    <tr>\n",
       "      <th>max</th>\n",
       "      <td>46.000000</td>\n",
       "      <td>39.000000</td>\n",
       "      <td>216.000000</td>\n",
       "      <td>3.828641</td>\n",
       "      <td>3.663562</td>\n",
       "      <td>5.375278</td>\n",
       "    </tr>\n",
       "  </tbody>\n",
       "</table>\n",
       "</div>"
      ],
      "text/plain": [
       "       CHARGE_COUNT  AGE_AT_INCIDENT  SENTENCE_TERM  CHARGE_COUNT_LOG  \\\n",
       "count  18485.000000     18485.000000   18485.000000      18485.000000   \n",
       "mean       1.512794        27.584853       3.636059          0.269527   \n",
       "std        1.377357         5.809397      10.093980          0.458561   \n",
       "min        1.000000        18.000000       0.067000          0.000000   \n",
       "25%        1.000000        23.000000       0.083000          0.000000   \n",
       "50%        1.000000        27.000000       0.250000          0.000000   \n",
       "75%        2.000000        32.000000       0.417000          0.693147   \n",
       "max       46.000000        39.000000     216.000000          3.828641   \n",
       "\n",
       "       AGE_AT_INCIDENT_LOG  SENTENCE_TERM_LOG  \n",
       "count         18485.000000       18485.000000  \n",
       "mean              3.295000          -1.020910  \n",
       "std               0.211610           1.762894  \n",
       "min               2.890372          -2.703063  \n",
       "25%               3.135494          -2.488915  \n",
       "50%               3.295837          -1.386294  \n",
       "75%               3.465736          -0.874669  \n",
       "max               3.663562           5.375278  "
      ]
     },
     "execution_count": 21,
     "metadata": {},
     "output_type": "execute_result"
    }
   ],
   "source": [
    "regression_df.describe()"
   ]
  },
  {
   "cell_type": "code",
   "execution_count": 22,
   "id": "d0811a6b-683d-4738-a189-f192e9bcedfa",
   "metadata": {},
   "outputs": [
    {
     "data": {
      "image/png": "[encoded data removed]",
      "text/plain": [
       "<Figure size 640x480 with 1 Axes>"
      ]
     },
     "metadata": {},
     "output_type": "display_data"
    }
   ],
   "source": [
    "sns.boxplot(data=regression_df, x=\"SENTENCE_TERM\", y=\"RACE\",showfliers=False)\n",
    "\n",
    "plt.xlabel('Duration of Sentence in Scaled Months')\n",
    "plt.ylabel(' ')\n",
    "plt.title('Black/White Difference in Sentence Terms')\n",
    "\n",
    "plt.show()"
   ]
  },
  {
   "cell_type": "code",
   "execution_count": 23,
   "id": "a27a5a96-173f-44b0-81b1-d42207005c40",
   "metadata": {},
   "outputs": [
    {
     "data": {
      "image/png": "[encoded data removed]",
      "text/plain": [
       "<Figure size 640x480 with 1 Axes>"
      ]
     },
     "metadata": {},
     "output_type": "display_data"
    }
   ],
   "source": [
    "sns.boxplot(data=regression_df, x=\"SENTENCE_TERM\", y=\"GENDER\", showfliers=False)\n",
    "\n",
    "plt.xlabel('Duration of Sentence in Scaled Months')\n",
    "plt.ylabel(' ')\n",
    "plt.title('Male/Female Difference in Sentence Terms')\n",
    "\n",
    "plt.show()"
   ]
  },
  {
   "cell_type": "code",
   "execution_count": 24,
   "id": "14be6208-81d7-4dac-8550-c504857444e9",
   "metadata": {},
   "outputs": [
    {
     "data": {
      "image/png": "[encoded data removed]",
      "text/plain": [
       "<Figure size 500x500 with 1 Axes>"
      ]
     },
     "metadata": {},
     "output_type": "display_data"
    }
   ],
   "source": [
    "sns.catplot(data=regression_df, x=\"DISPOSITION_TYPE\", kind='count')\n",
    "plt.ylabel('Count')\n",
    "plt.xlabel('Disposition Type')\n",
    "plt.title('Case Dispositions')\n",
    "plt.show()"
   ]
  },
  {
   "cell_type": "code",
   "execution_count": 25,
   "id": "7ed3493e-de92-47fa-95de-01557c7c5087",
   "metadata": {},
   "outputs": [
    {
     "data": {
      "image/png": "[encoded data removed]",
      "text/plain": [
       "<Figure size 640x480 with 2 Axes>"
      ]
     },
     "metadata": {},
     "output_type": "display_data"
    }
   ],
   "source": [
    "corr = sentencing_df[['CHARGE_COUNT', 'AGE_AT_INCIDENT','SENTENCE_TERM']].corr()\n",
    "\n",
    "sns.heatmap(corr, cmap=\"Blues\", annot=True, \n",
    "            xticklabels=['Charge Count','Age at Incident','Sentence Term'],\n",
    "            yticklabels=['Charge Count','Age at Incident','Sentence Term'])\n",
    "plt.title('Correlation Heatmap')\n",
    "plt.show()"
   ]
  },
  {
   "cell_type": "markdown",
   "id": "2df459c5-e998-4d6a-bf2a-49188e1d1093",
   "metadata": {
    "tags": []
   },
   "source": [
    "## Performing the Regressions"
   ]
  },
  {
   "cell_type": "code",
   "execution_count": 26,
   "id": "e064f975-3337-401a-87eb-2ef3b570c0e9",
   "metadata": {},
   "outputs": [
    {
     "data": {
      "text/html": [
       "<div>\n",
       "<style scoped>\n",
       "    .dataframe tbody tr th:only-of-type {\n",
       "        vertical-align: middle;\n",
       "    }\n",
       "\n",
       "    .dataframe tbody tr th {\n",
       "        vertical-align: top;\n",
       "    }\n",
       "\n",
       "    .dataframe thead th {\n",
       "        text-align: right;\n",
       "    }\n",
       "</style>\n",
       "<table border=\"1\" class=\"dataframe\">\n",
       "  <thead>\n",
       "    <tr style=\"text-align: right;\">\n",
       "      <th></th>\n",
       "      <th>CHARGE_COUNT</th>\n",
       "      <th>AGE_AT_INCIDENT</th>\n",
       "      <th>SENTENCE_TERM</th>\n",
       "      <th>CHARGE_COUNT_LOG</th>\n",
       "      <th>AGE_AT_INCIDENT_LOG</th>\n",
       "      <th>SENTENCE_TERM_LOG</th>\n",
       "      <th>RACE_BLACK</th>\n",
       "      <th>RACE_WHITE</th>\n",
       "      <th>GENDER_FEMALE</th>\n",
       "      <th>GENDER_MALE</th>\n",
       "      <th>DISPOSITION_TYPE_FOUND_GUILTY</th>\n",
       "      <th>DISPOSITION_TYPE_PLEAD_GUILTY</th>\n",
       "    </tr>\n",
       "  </thead>\n",
       "  <tbody>\n",
       "    <tr>\n",
       "      <th>10065</th>\n",
       "      <td>1</td>\n",
       "      <td>27.0</td>\n",
       "      <td>0.333</td>\n",
       "      <td>0.000000</td>\n",
       "      <td>3.295837</td>\n",
       "      <td>-1.099613</td>\n",
       "      <td>1</td>\n",
       "      <td>0</td>\n",
       "      <td>0</td>\n",
       "      <td>1</td>\n",
       "      <td>0</td>\n",
       "      <td>1</td>\n",
       "    </tr>\n",
       "    <tr>\n",
       "      <th>10092</th>\n",
       "      <td>2</td>\n",
       "      <td>22.0</td>\n",
       "      <td>0.417</td>\n",
       "      <td>0.693147</td>\n",
       "      <td>3.091042</td>\n",
       "      <td>-0.874669</td>\n",
       "      <td>1</td>\n",
       "      <td>0</td>\n",
       "      <td>0</td>\n",
       "      <td>1</td>\n",
       "      <td>0</td>\n",
       "      <td>1</td>\n",
       "    </tr>\n",
       "    <tr>\n",
       "      <th>10110</th>\n",
       "      <td>1</td>\n",
       "      <td>27.0</td>\n",
       "      <td>0.083</td>\n",
       "      <td>0.000000</td>\n",
       "      <td>3.295837</td>\n",
       "      <td>-2.488915</td>\n",
       "      <td>1</td>\n",
       "      <td>0</td>\n",
       "      <td>0</td>\n",
       "      <td>1</td>\n",
       "      <td>0</td>\n",
       "      <td>1</td>\n",
       "    </tr>\n",
       "  </tbody>\n",
       "</table>\n",
       "</div>"
      ],
      "text/plain": [
       "       CHARGE_COUNT  AGE_AT_INCIDENT  SENTENCE_TERM  CHARGE_COUNT_LOG  \\\n",
       "10065             1             27.0          0.333          0.000000   \n",
       "10092             2             22.0          0.417          0.693147   \n",
       "10110             1             27.0          0.083          0.000000   \n",
       "\n",
       "       AGE_AT_INCIDENT_LOG  SENTENCE_TERM_LOG  RACE_BLACK  RACE_WHITE  \\\n",
       "10065             3.295837          -1.099613           1           0   \n",
       "10092             3.091042          -0.874669           1           0   \n",
       "10110             3.295837          -2.488915           1           0   \n",
       "\n",
       "       GENDER_FEMALE  GENDER_MALE  DISPOSITION_TYPE_FOUND_GUILTY  \\\n",
       "10065              0            1                              0   \n",
       "10092              0            1                              0   \n",
       "10110              0            1                              0   \n",
       "\n",
       "       DISPOSITION_TYPE_PLEAD_GUILTY  \n",
       "10065                              1  \n",
       "10092                              1  \n",
       "10110                              1  "
      ]
     },
     "execution_count": 26,
     "metadata": {},
     "output_type": "execute_result"
    }
   ],
   "source": [
    "# getting binary numeric form for all categorical variables \n",
    "regression_df = pd.get_dummies(regression_df)\n",
    "regression_df.head(3)"
   ]
  },
  {
   "cell_type": "code",
   "execution_count": 27,
   "id": "2807cdfb-080e-4805-8ec4-fbf63300be5a",
   "metadata": {},
   "outputs": [
    {
     "data": {
      "text/plain": [
       "(18485, 12)"
      ]
     },
     "execution_count": 27,
     "metadata": {},
     "output_type": "execute_result"
    }
   ],
   "source": [
    "regression_df.shape"
   ]
  },
  {
   "cell_type": "code",
   "execution_count": 28,
   "id": "c31e17d4-1ff9-4ad6-9ba0-acfd6f087b04",
   "metadata": {},
   "outputs": [],
   "source": [
    "# definning the two dependent variables to be used \n",
    "y = regression_df['SENTENCE_TERM']\n",
    "y_log = regression_df['SENTENCE_TERM_LOG']"
   ]
  },
  {
   "cell_type": "markdown",
   "id": "62def6af-ad8c-4cea-bf99-26d0d8a0bdc6",
   "metadata": {
    "tags": []
   },
   "source": [
    "### Regression One\n",
    "\n",
    "Below, we see the first regression relating the sentence term variable to the race, gender, number of charges, age at incident, and disposition type variables. From the output, we can see that all the independent variables, except for gender, appear to be statistically significant at the five percent level. \n",
    "\n",
    "The main variable of concern here, RACE_BLACK, is statistically significant and has a coefficient of 0.8850, indicating that a Black defendant is expected to spend about three more weeks in prison than a White defendant. "
   ]
  },
  {
   "cell_type": "code",
   "execution_count": 29,
   "id": "b38ec3b0-65fb-404a-941e-2264dd6accb5",
   "metadata": {},
   "outputs": [],
   "source": [
    "#defining the first set of independant variables \n",
    "x_1 = regression_df[['RACE_BLACK','GENDER_FEMALE','CHARGE_COUNT','DISPOSITION_TYPE_PLEAD_GUILTY','AGE_AT_INCIDENT',]]\n",
    "x_1 = sm.add_constant(x_1)"
   ]
  },
  {
   "cell_type": "code",
   "execution_count": 30,
   "id": "dddafac3-7335-497d-a7ce-833fc500dd6a",
   "metadata": {},
   "outputs": [
    {
     "name": "stdout",
     "output_type": "stream",
     "text": [
      "                            OLS Regression Results                            \n",
      "==============================================================================\n",
      "Dep. Variable:          SENTENCE_TERM   R-squared:                       0.005\n",
      "Model:                            OLS   Adj. R-squared:                  0.005\n",
      "Method:                 Least Squares   F-statistic:                     18.29\n",
      "Date:                Mon, 10 Oct 2022   Prob (F-statistic):           3.66e-18\n",
      "Time:                        11:32:03   Log-Likelihood:                -68919.\n",
      "No. Observations:               18485   AIC:                         1.379e+05\n",
      "Df Residuals:                   18479   BIC:                         1.379e+05\n",
      "Df Model:                           5                                         \n",
      "Covariance Type:            nonrobust                                         \n",
      "=================================================================================================\n",
      "                                    coef    std err          t      P>|t|      [0.025      0.975]\n",
      "-------------------------------------------------------------------------------------------------\n",
      "const                             3.5108      0.562      6.244      0.000       2.409       4.613\n",
      "RACE_BLACK                        0.8850      0.281      3.155      0.002       0.335       1.435\n",
      "GENDER_FEMALE                    -0.4878      0.349     -1.398      0.162      -1.172       0.196\n",
      "CHARGE_COUNT                      0.0150      0.054      0.278      0.781      -0.091       0.121\n",
      "DISPOSITION_TYPE_PLEAD_GUILTY    -2.3103      0.305     -7.567      0.000      -2.909      -1.712\n",
      "AGE_AT_INCIDENT                   0.0534      0.013      4.167      0.000       0.028       0.079\n",
      "==============================================================================\n",
      "Omnibus:                    16120.165   Durbin-Watson:                   1.770\n",
      "Prob(Omnibus):                  0.000   Jarque-Bera (JB):           617089.755\n",
      "Skew:                           4.110   Prob(JB):                         0.00\n",
      "Kurtosis:                      30.086   Cond. No.                         233.\n",
      "==============================================================================\n",
      "\n",
      "Notes:\n",
      "[1] Standard Errors assume that the covariance matrix of the errors is correctly specified.\n"
     ]
    }
   ],
   "source": [
    "# fitting the model and printing the output\n",
    "model_1 = sm.OLS(y, x_1).fit()\n",
    "print(model_1.summary())"
   ]
  },
  {
   "cell_type": "markdown",
   "id": "478aefcf-efc1-41f9-a51a-a4d5a4eddefe",
   "metadata": {
    "tags": []
   },
   "source": [
    "### Regression Two\n",
    "\n",
    "The second regression uses the same independent variables as the first, but also uses the log form of the sentence term variable as the dependent variable. Here we can see that once again all the independent variables are statistically significant at the five percent level."
   ]
  },
  {
   "cell_type": "code",
   "execution_count": 31,
   "id": "0b81d5d6-3cad-489e-908c-04b91da085b7",
   "metadata": {},
   "outputs": [],
   "source": [
    "#defining the second set of independant variables \n",
    "x_2 = regression_df[['RACE_BLACK','GENDER_FEMALE','CHARGE_COUNT','DISPOSITION_TYPE_PLEAD_GUILTY','AGE_AT_INCIDENT']]\n",
    "x_2 = sm.add_constant(x_2)"
   ]
  },
  {
   "cell_type": "code",
   "execution_count": 32,
   "id": "d1f56324-ebb0-4296-8a5c-3c8d6d085ba0",
   "metadata": {},
   "outputs": [
    {
     "name": "stdout",
     "output_type": "stream",
     "text": [
      "                            OLS Regression Results                            \n",
      "==============================================================================\n",
      "Dep. Variable:      SENTENCE_TERM_LOG   R-squared:                       0.010\n",
      "Model:                            OLS   Adj. R-squared:                  0.010\n",
      "Method:                 Least Squares   F-statistic:                     37.54\n",
      "Date:                Mon, 10 Oct 2022   Prob (F-statistic):           1.93e-38\n",
      "Time:                        11:32:03   Log-Likelihood:                -36615.\n",
      "No. Observations:               18485   AIC:                         7.324e+04\n",
      "Df Residuals:                   18479   BIC:                         7.329e+04\n",
      "Df Model:                           5                                         \n",
      "Covariance Type:            nonrobust                                         \n",
      "=================================================================================================\n",
      "                                    coef    std err          t      P>|t|      [0.025      0.975]\n",
      "-------------------------------------------------------------------------------------------------\n",
      "const                            -1.1796      0.098    -12.044      0.000      -1.372      -0.988\n",
      "RACE_BLACK                        0.2588      0.049      5.296      0.000       0.163       0.355\n",
      "GENDER_FEMALE                    -0.0999      0.061     -1.643      0.100      -0.219       0.019\n",
      "CHARGE_COUNT                      0.0371      0.009      3.949      0.000       0.019       0.055\n",
      "DISPOSITION_TYPE_PLEAD_GUILTY    -0.5192      0.053     -9.762      0.000      -0.623      -0.415\n",
      "AGE_AT_INCIDENT                   0.0129      0.002      5.762      0.000       0.008       0.017\n",
      "==============================================================================\n",
      "Omnibus:                     5044.200   Durbin-Watson:                   1.887\n",
      "Prob(Omnibus):                  0.000   Jarque-Bera (JB):            10511.858\n",
      "Skew:                           1.659   Prob(JB):                         0.00\n",
      "Kurtosis:                       4.623   Cond. No.                         233.\n",
      "==============================================================================\n",
      "\n",
      "Notes:\n",
      "[1] Standard Errors assume that the covariance matrix of the errors is correctly specified.\n"
     ]
    }
   ],
   "source": [
    "model_2 = sm.OLS(y_log, x_2).fit()\n",
    "print(model_2.summary())"
   ]
  },
  {
   "cell_type": "markdown",
   "id": "b7c5fbd4-f898-49a1-8fbf-b9910b7f1fd3",
   "metadata": {},
   "source": [
    "### Regression Three\n",
    "\n",
    "In the final regression, the log version of the sentence term variable is used as well as the log versions of Charge Count and Age at Incident. Here we can see that if the defendant is Black, they are expected to spend about twenty-five percent more time in prison than if they were White. "
   ]
  },
  {
   "cell_type": "code",
   "execution_count": 33,
   "id": "23220350-9ec6-48f0-a551-c296e2ecb3d5",
   "metadata": {},
   "outputs": [],
   "source": [
    "#defining the third set of independant variables \n",
    "x_3 = regression_df[['RACE_BLACK','GENDER_FEMALE','CHARGE_COUNT_LOG','DISPOSITION_TYPE_PLEAD_GUILTY','AGE_AT_INCIDENT_LOG']]\n",
    "x_3 = sm.add_constant(x_3)"
   ]
  },
  {
   "cell_type": "code",
   "execution_count": 34,
   "id": "8bb7a88e-8d88-4225-b03f-19643df18590",
   "metadata": {},
   "outputs": [
    {
     "name": "stdout",
     "output_type": "stream",
     "text": [
      "                            OLS Regression Results                            \n",
      "==============================================================================\n",
      "Dep. Variable:      SENTENCE_TERM_LOG   R-squared:                       0.011\n",
      "Model:                            OLS   Adj. R-squared:                  0.011\n",
      "Method:                 Least Squares   F-statistic:                     40.29\n",
      "Date:                Mon, 10 Oct 2022   Prob (F-statistic):           2.36e-41\n",
      "Time:                        11:32:03   Log-Likelihood:                -36609.\n",
      "No. Observations:               18485   AIC:                         7.323e+04\n",
      "Df Residuals:                   18479   BIC:                         7.328e+04\n",
      "Df Model:                           5                                         \n",
      "Covariance Type:            nonrobust                                         \n",
      "=================================================================================================\n",
      "                                    coef    std err          t      P>|t|      [0.025      0.975]\n",
      "-------------------------------------------------------------------------------------------------\n",
      "const                            -2.0246      0.219     -9.233      0.000      -2.454      -1.595\n",
      "RACE_BLACK                        0.2575      0.049      5.269      0.000       0.162       0.353\n",
      "GENDER_FEMALE                    -0.0989      0.061     -1.628      0.104      -0.218       0.020\n",
      "CHARGE_COUNT_LOG                  0.1470      0.028      5.204      0.000       0.092       0.202\n",
      "DISPOSITION_TYPE_PLEAD_GUILTY    -0.5069      0.053     -9.516      0.000      -0.611      -0.403\n",
      "AGE_AT_INCIDENT_LOG               0.3660      0.061      5.972      0.000       0.246       0.486\n",
      "==============================================================================\n",
      "Omnibus:                     5074.720   Durbin-Watson:                   1.887\n",
      "Prob(Omnibus):                  0.000   Jarque-Bera (JB):            10620.711\n",
      "Skew:                           1.667   Prob(JB):                         0.00\n",
      "Kurtosis:                       4.636   Cond. No.                         65.4\n",
      "==============================================================================\n",
      "\n",
      "Notes:\n",
      "[1] Standard Errors assume that the covariance matrix of the errors is correctly specified.\n"
     ]
    }
   ],
   "source": [
    "model_3 = sm.OLS(y_log, x_3).fit()\n",
    "print(model_3.summary())"
   ]
  },
  {
   "cell_type": "markdown",
   "id": "522a38ee-8be1-4f97-9e59-d731678d42fb",
   "metadata": {},
   "source": [
    "## Conclusion\n",
    "\n",
    "Altogether, there does appear to be a relationship between the race of the defendant and the amount of time they are sentenced to prison. Policy makers who wish to address this arbitrary disparity between White and Black defendants will need to create stricter guidelines determining how a defendant in sentenced, allowing less room for arbitrary judgment in sentencing. "
   ]
  }
 ],
 "metadata": {
  "kernelspec": {
   "display_name": "Python 3 (ipykernel)",
   "language": "python",
   "name": "python3"
  },
  "language_info": {
   "codemirror_mode": {
    "name": "ipython",
    "version": 3
   },
   "file_extension": ".py",
   "mimetype": "text/x-python",
   "name": "python",
   "nbconvert_exporter": "python",
   "pygments_lexer": "ipython3",
   "version": "3.8.13"
  }
 },
 "nbformat": 4,
 "nbformat_minor": 5
}
